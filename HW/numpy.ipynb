{
 "cells": [
  {
   "cell_type": "markdown",
   "metadata": {},
   "source": [
    "## Numpy"
   ]
  },
  {
   "cell_type": "markdown",
   "metadata": {},
   "source": [
    "### Vector"
   ]
  },
  {
   "cell_type": "code",
   "execution_count": 2,
   "metadata": {},
   "outputs": [],
   "source": [
    "import numpy as np"
   ]
  },
  {
   "cell_type": "markdown",
   "metadata": {},
   "source": [
    "1. Addition of Vectors"
   ]
  },
  {
   "cell_type": "code",
   "execution_count": 3,
   "metadata": {},
   "outputs": [
    {
     "data": {
      "text/plain": [
       "array([ 8,  8, 13])"
      ]
     },
     "execution_count": 3,
     "metadata": {},
     "output_type": "execute_result"
    }
   ],
   "source": [
    "vec1 = np.array([1,8,7])\n",
    "vec2 = np.array([7,0,6])\n",
    "add = vec1 + vec2\n",
    "add"
   ]
  },
  {
   "cell_type": "code",
   "execution_count": 5,
   "metadata": {},
   "outputs": [
    {
     "data": {
      "text/plain": [
       "[-1, -7, 8, -1, 4, -3]"
      ]
     },
     "execution_count": 5,
     "metadata": {},
     "output_type": "execute_result"
    }
   ],
   "source": [
    "v1=[-1,-7,8]\n",
    "v2=[-1,4,-3]\n",
    "add = v1+v2\n",
    "add"
   ]
  },
  {
   "cell_type": "code",
   "execution_count": 6,
   "metadata": {},
   "outputs": [
    {
     "data": {
      "text/plain": [
       "array([-2, -3,  5])"
      ]
     },
     "execution_count": 6,
     "metadata": {},
     "output_type": "execute_result"
    }
   ],
   "source": [
    "v1=np.array([-1,-7,8])\n",
    "v2=np.array([-1,4,-3])\n",
    "add = v1+v2\n",
    "add"
   ]
  },
  {
   "cell_type": "markdown",
   "metadata": {},
   "source": [
    "2. Subtraction of Vectors"
   ]
  },
  {
   "cell_type": "code",
   "execution_count": 7,
   "metadata": {},
   "outputs": [
    {
     "data": {
      "text/plain": [
       "array([7, 4, 2])"
      ]
     },
     "execution_count": 7,
     "metadata": {},
     "output_type": "execute_result"
    }
   ],
   "source": [
    "v1=np.array([7,8,3])\n",
    "v2=np.array([0,4,1])\n",
    "sub = v1-v2\n",
    "sub"
   ]
  },
  {
   "cell_type": "code",
   "execution_count": null,
   "metadata": {},
   "outputs": [],
   "source": [
    "# error\n",
    "# v1=[7,8,3]\n",
    "# v2=[0,4,1]\n",
    "# sub = v1-v2\n",
    "# sub"
   ]
  },
  {
   "cell_type": "code",
   "execution_count": 10,
   "metadata": {},
   "outputs": [
    {
     "data": {
      "text/plain": [
       "array([-7, -4,  2])"
      ]
     },
     "execution_count": 10,
     "metadata": {},
     "output_type": "execute_result"
    }
   ],
   "source": [
    "v1=np.array([-7,-8,3])\n",
    "v2=np.array([0,-4,1])\n",
    "sub = v1-v2\n",
    "sub"
   ]
  },
  {
   "cell_type": "markdown",
   "metadata": {},
   "source": [
    "3. Scalar Multiplication (Scalar Product)"
   ]
  },
  {
   "cell_type": "code",
   "execution_count": 12,
   "metadata": {},
   "outputs": [
    {
     "data": {
      "text/plain": [
       "array([16, 32, 36,  4])"
      ]
     },
     "execution_count": 12,
     "metadata": {},
     "output_type": "execute_result"
    }
   ],
   "source": [
    "vec = np.array([4,8,9,1])\n",
    "scaler = 4\n",
    "mal = scaler*vec\n",
    "mal"
   ]
  },
  {
   "cell_type": "code",
   "execution_count": 11,
   "metadata": {},
   "outputs": [
    {
     "data": {
      "text/plain": [
       "[4, 8, 9, 1, 4, 8, 9, 1, 4, 8, 9, 1, 4, 8, 9, 1]"
      ]
     },
     "execution_count": 11,
     "metadata": {},
     "output_type": "execute_result"
    }
   ],
   "source": [
    "vec = [4,8,9,1]\n",
    "scaler = 4\n",
    "mal = scaler*vec\n",
    "mal"
   ]
  },
  {
   "cell_type": "markdown",
   "metadata": {},
   "source": [
    "4. Dot Product (Scalar Product)"
   ]
  },
  {
   "cell_type": "code",
   "execution_count": 16,
   "metadata": {},
   "outputs": [
    {
     "data": {
      "text/plain": [
       "18"
      ]
     },
     "execution_count": 16,
     "metadata": {},
     "output_type": "execute_result"
    }
   ],
   "source": [
    "v1 = [1,3,-9]\n",
    "v2 = [9,0,-1]\n",
    "dot = np.dot(v1, v2)\n",
    "dot"
   ]
  },
  {
   "cell_type": "code",
   "execution_count": 18,
   "metadata": {},
   "outputs": [
    {
     "data": {
      "text/plain": [
       "array([9, 0, 9])"
      ]
     },
     "execution_count": 18,
     "metadata": {},
     "output_type": "execute_result"
    }
   ],
   "source": [
    "v1 = np.array([1,3,-9])\n",
    "v2 = np.array([9,0,-1])\n",
    "dot = v1 * v2\n",
    "dot"
   ]
  },
  {
   "cell_type": "code",
   "execution_count": 26,
   "metadata": {},
   "outputs": [
    {
     "data": {
      "text/plain": [
       "18"
      ]
     },
     "execution_count": 26,
     "metadata": {},
     "output_type": "execute_result"
    }
   ],
   "source": [
    "v1 = np.array([1,3,-9])\n",
    "v2 = np.array([9,0,-1])\n",
    "dot = np.dot(v1 , v2)\n",
    "dot"
   ]
  },
  {
   "cell_type": "markdown",
   "metadata": {},
   "source": [
    "5. Cross Product (Vector Product)"
   ]
  },
  {
   "cell_type": "code",
   "execution_count": 28,
   "metadata": {},
   "outputs": [
    {
     "data": {
      "text/plain": [
       "array([-3, -5, -9])"
      ]
     },
     "execution_count": 28,
     "metadata": {},
     "output_type": "execute_result"
    }
   ],
   "source": [
    "v1 = np.array([1,3,-2])\n",
    "v2 = np.array([3,0,-1])\n",
    "dot = np.cross(v1 , v2)\n",
    "dot"
   ]
  },
  {
   "cell_type": "markdown",
   "metadata": {},
   "source": [
    "6. Magnitude (Length) of a Vector"
   ]
  },
  {
   "cell_type": "code",
   "execution_count": 33,
   "metadata": {},
   "outputs": [
    {
     "data": {
      "text/plain": [
       "3.7416573867739413"
      ]
     },
     "execution_count": 33,
     "metadata": {},
     "output_type": "execute_result"
    }
   ],
   "source": [
    "v1 = np.array([1,3,-2])\n",
    "mag = np.sqrt(sum(np.square(v1)))\n",
    "mag"
   ]
  },
  {
   "cell_type": "code",
   "execution_count": 35,
   "metadata": {},
   "outputs": [
    {
     "data": {
      "text/plain": [
       "3.7416573867739413"
      ]
     },
     "execution_count": 35,
     "metadata": {},
     "output_type": "execute_result"
    }
   ],
   "source": [
    "v1 = np.array([1,3,-2])\n",
    "mag = np.linalg.norm(v1)\n",
    "mag"
   ]
  },
  {
   "cell_type": "markdown",
   "metadata": {},
   "source": [
    "7. Unit Vector"
   ]
  },
  {
   "cell_type": "code",
   "execution_count": 46,
   "metadata": {},
   "outputs": [
    {
     "data": {
      "text/plain": [
       "array([0.        , 0.4472136 , 0.89442719])"
      ]
     },
     "execution_count": 46,
     "metadata": {},
     "output_type": "execute_result"
    }
   ],
   "source": [
    "v=np.arange(3)\n",
    "v_hat = v/np.linalg.norm(v)\n",
    "v_hat"
   ]
  },
  {
   "cell_type": "code",
   "execution_count": 47,
   "metadata": {},
   "outputs": [
    {
     "data": {
      "text/plain": [
       "array([0. , 0.6, 0.8])"
      ]
     },
     "execution_count": 47,
     "metadata": {},
     "output_type": "execute_result"
    }
   ],
   "source": [
    "v=np.array([0,3,4])\n",
    "v_hat = v/np.linalg.norm(v)\n",
    "v_hat"
   ]
  },
  {
   "cell_type": "markdown",
   "metadata": {},
   "source": [
    "8. Vector Projection"
   ]
  },
  {
   "cell_type": "code",
   "execution_count": 49,
   "metadata": {},
   "outputs": [
    {
     "data": {
      "text/plain": [
       "array([2., 2., 2.])"
      ]
     },
     "execution_count": 49,
     "metadata": {},
     "output_type": "execute_result"
    }
   ],
   "source": [
    "u = np.array([1,1,1])\n",
    "v = np.array([2,2,2])\n",
    "proj = (np.dot(v, u) / np.dot(u, u)) * u\n",
    "proj"
   ]
  },
  {
   "cell_type": "code",
   "execution_count": 48,
   "metadata": {},
   "outputs": [
    {
     "name": "stdout",
     "output_type": "stream",
     "text": [
      "Vector Addition: [5 7 9]\n",
      "Dot Product: 32\n",
      "Cross Product: [-3  6 -3]\n",
      "Magnitude of v1: 3.7416573867739413\n",
      "Scalar Multiplication: [ 5 10 15]\n",
      "Normalized v1: [0.26726124 0.53452248 0.80178373]\n",
      "Projection of v1 onto v2: [1.66233766 2.07792208 2.49350649]\n",
      "Angle between v1 and v2: 0.2257261285527342\n",
      "Reflection of v1: [ 1.  2. -3.]\n",
      "Sum of v1, v2, v3: [12 15 18]\n",
      "Radial Component: [0. 0. 3.]\n",
      "Tangential Component: [1. 2. 0.]\n",
      "Scalar Triple Product: 0\n",
      "Rotated 2D vector: [-0.70710678  2.12132034]\n"
     ]
    }
   ],
   "source": [
    "import numpy as np\n",
    "\n",
    "# 1. Vector Addition\n",
    "def vector_addition(v1, v2):\n",
    "    return np.add(v1, v2)\n",
    "\n",
    "# 2. Dot Product (Scalar Product)\n",
    "def dot_product(v1, v2):\n",
    "    return np.dot(v1, v2)\n",
    "\n",
    "# 3. Cross Product\n",
    "def cross_product(v1, v2):\n",
    "    return np.cross(v1, v2)\n",
    "\n",
    "# 4. Magnitude (Norm) of a Vector\n",
    "def magnitude(v):\n",
    "    return np.linalg.norm(v)\n",
    "\n",
    "# 5. Scalar Multiplication\n",
    "def scalar_multiply(scalar, v):\n",
    "    return scalar * v\n",
    "\n",
    "# 6. Normalization of a Vector\n",
    "def normalize(v):\n",
    "    return v / np.linalg.norm(v)\n",
    "\n",
    "# 7. Vector Projection onto Another Vector\n",
    "def projection(v, u):\n",
    "    return (np.dot(v, u) / np.dot(u, u)) * u\n",
    "\n",
    "# 8. Angle Between Two Vectors\n",
    "def angle_between(v1, v2):\n",
    "    cos_angle = np.dot(v1, v2) / (np.linalg.norm(v1) * np.linalg.norm(v2))\n",
    "    return np.arccos(np.clip(cos_angle, -1.0, 1.0))  # Clip to avoid numerical errors\n",
    "\n",
    "# 9. Vector Reflection\n",
    "def vector_reflection(v, normal):\n",
    "    normal = normalize(normal)\n",
    "    return v - 2 * np.dot(v, normal) * normal\n",
    "\n",
    "# 10. Vector Sum (Multiple Vectors)\n",
    "def vector_sum(*vectors):\n",
    "    return np.sum(vectors, axis=0)\n",
    "\n",
    "# 11. Vector Decomposition (Radial and Tangential Components)\n",
    "def radial_tangential(v, normal):\n",
    "    normal = normalize(normal)\n",
    "    radial = np.dot(v, normal) * normal\n",
    "    tangential = v - radial\n",
    "    return radial, tangential\n",
    "\n",
    "# 12. Scalar Triple Product (Volume of Parallelepiped)\n",
    "def scalar_triple_product(v1, v2, v3):\n",
    "    return np.dot(v1, np.cross(v2, v3))\n",
    "\n",
    "# 13. Cross Product of Three Vectors\n",
    "def vector_cross_product_of_three(v1, v2, v3):\n",
    "    return np.cross(np.cross(v1, v2), v3)\n",
    "\n",
    "# 14. Coordinate Transformation (Cartesian to Polar for 2D)\n",
    "def cartesian_to_polar(v):\n",
    "    r = np.linalg.norm(v)\n",
    "    theta = np.arctan2(v[1], v[0])\n",
    "    return r, theta\n",
    "\n",
    "# 15. Coordinate Transformation (Cartesian to Spherical for 3D)\n",
    "def cartesian_to_spherical(v):\n",
    "    r = np.linalg.norm(v)\n",
    "    theta = np.arccos(v[2] / r)\n",
    "    phi = np.arctan2(v[1], v[0])\n",
    "    return r, theta, phi\n",
    "\n",
    "# 16. Rotation Matrix for 2D Vector\n",
    "def rotation_matrix_2d(theta):\n",
    "    return np.array([[np.cos(theta), -np.sin(theta)],\n",
    "                     [np.sin(theta), np.cos(theta)]])\n",
    "\n",
    "# 17. Rotation of a 2D Vector Using a Rotation Matrix\n",
    "def rotate_vector_2d(v, theta):\n",
    "    rotation_matrix = rotation_matrix_2d(theta)\n",
    "    return np.dot(rotation_matrix, v)\n",
    "\n",
    "# 18. Rotation of a 3D Vector Using a Rotation Matrix (Around Z-Axis)\n",
    "def rotate_vector_3d(v, theta):\n",
    "    rotation_matrix = np.array([[np.cos(theta), -np.sin(theta), 0],\n",
    "                                [np.sin(theta), np.cos(theta), 0],\n",
    "                                [0, 0, 1]])\n",
    "    return np.dot(rotation_matrix, v)\n",
    "\n",
    "# 19. Vector Product (Tensor Product)\n",
    "def tensor_product(v1, v2):\n",
    "    return np.outer(v1, v2)\n",
    "\n",
    "# 20. Moment of a Force (Cross Product)\n",
    "def moment_of_force(position, force):\n",
    "    return np.cross(position, force)\n",
    "\n",
    "# 21. Curl of a Vector Field (For 3D)\n",
    "def curl_of_vector_field(v):\n",
    "    curl = np.array([\n",
    "        np.gradient(v[2], axis=1) - np.gradient(v[1], axis=2),\n",
    "        np.gradient(v[0], axis=2) - np.gradient(v[2], axis=0),\n",
    "        np.gradient(v[1], axis=0) - np.gradient(v[0], axis=1)\n",
    "    ])\n",
    "    return curl\n",
    "\n",
    "# 22. Divergence of a Vector Field\n",
    "def divergence_of_vector_field(v):\n",
    "    return np.gradient(v[0], axis=0) + np.gradient(v[1], axis=1) + np.gradient(v[2], axis=2)\n",
    "\n",
    "# 23. Jacobian Matrix of a Vector Function\n",
    "def jacobian_matrix(f, x, y):\n",
    "    df_dx = (f(x + 1e-5, y) - f(x, y)) / 1e-5\n",
    "    df_dy = (f(x, y + 1e-5) - f(x, y)) / 1e-5\n",
    "    return np.array([[df_dx, df_dy]])\n",
    "\n",
    "# 24. Hessian Matrix of a Scalar Function\n",
    "def hessian(f, x, y):\n",
    "    d2f_dx2 = (f(x + 1e-5, y) - 2*f(x, y) + f(x - 1e-5, y)) / 1e-10\n",
    "    d2f_dy2 = (f(x, y + 1e-5) - 2*f(x, y) + f(x, y - 1e-5)) / 1e-10\n",
    "    d2f_dxdy = (f(x + 1e-5, y + 1e-5) - f(x + 1e-5, y - 1e-5) - f(x - 1e-5, y + 1e-5) + f(x - 1e-5, y - 1e-5)) / (4 * 1e-10)\n",
    "    return np.array([[d2f_dx2, d2f_dxdy], [d2f_dxdy, d2f_dy2]])\n",
    "\n",
    "# 25. Green’s Theorem for 2D\n",
    "def greens_theorem(F, C, region):\n",
    "    # For demonstration purposes: C is the curve, F is the vector field\n",
    "    return np.sum(np.gradient(F[0], axis=0) + np.gradient(F[1], axis=1)) * region\n",
    "\n",
    "# Example Usage:\n",
    "v1 = np.array([1, 2, 3])\n",
    "v2 = np.array([4, 5, 6])\n",
    "v3 = np.array([7, 8, 9])\n",
    "normal = np.array([0, 0, 1])\n",
    "scalar = 5\n",
    "\n",
    "# 1. Vector addition\n",
    "print(\"Vector Addition:\", vector_addition(v1, v2))\n",
    "\n",
    "# 2. Dot product\n",
    "print(\"Dot Product:\", dot_product(v1, v2))\n",
    "\n",
    "# 3. Cross product\n",
    "print(\"Cross Product:\", cross_product(v1, v2))\n",
    "\n",
    "# 4. Magnitude\n",
    "print(\"Magnitude of v1:\", magnitude(v1))\n",
    "\n",
    "# 5. Scalar multiplication\n",
    "print(\"Scalar Multiplication:\", scalar_multiply(scalar, v1))\n",
    "\n",
    "# 6. Normalization\n",
    "print(\"Normalized v1:\", normalize(v1))\n",
    "\n",
    "# 7. Projection\n",
    "print(\"Projection of v1 onto v2:\", projection(v1, v2))\n",
    "\n",
    "# 8. Angle between vectors\n",
    "print(\"Angle between v1 and v2:\", angle_between(v1, v2))\n",
    "\n",
    "# 9. Vector reflection\n",
    "print(\"Reflection of v1:\", vector_reflection(v1, normal))\n",
    "\n",
    "# 10. Vector sum\n",
    "print(\"Sum of v1, v2, v3:\", vector_sum(v1, v2, v3))\n",
    "\n",
    "# 11. Radial and tangential components\n",
    "radial, tangential = radial_tangential(v1, normal)\n",
    "print(\"Radial Component:\", radial)\n",
    "print(\"Tangential Component:\", tangential)\n",
    "\n",
    "# 12. Scalar triple product\n",
    "print(\"Scalar Triple Product:\", scalar_triple_product(v1, v2, v3))\n",
    "\n",
    "# 13. Rotation matrix and vector rotation\n",
    "theta = np.pi / 4  # 45 degrees\n",
    "rotated_vector = rotate_vector_2d(v1[:2], theta)\n",
    "print(\"Rotated 2D vector:\", rotated_vector)\n"
   ]
  },
  {
   "cell_type": "code",
   "execution_count": null,
   "metadata": {},
   "outputs": [],
   "source": []
  }
 ],
 "metadata": {
  "kernelspec": {
   "display_name": "base",
   "language": "python",
   "name": "python3"
  },
  "language_info": {
   "codemirror_mode": {
    "name": "ipython",
    "version": 3
   },
   "file_extension": ".py",
   "mimetype": "text/x-python",
   "name": "python",
   "nbconvert_exporter": "python",
   "pygments_lexer": "ipython3",
   "version": "3.12.4"
  }
 },
 "nbformat": 4,
 "nbformat_minor": 2
}
